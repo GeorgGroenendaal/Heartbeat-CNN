{
 "cells": [
  {
   "cell_type": "code",
   "execution_count": 2,
   "metadata": {},
   "outputs": [],
   "source": [
    "import matplotlib.pyplot as plt\n",
    "import pandas as pd\n",
    "import numpy as np\n",
    "import os"
   ]
  },
  {
   "cell_type": "code",
   "execution_count": 3,
   "metadata": {},
   "outputs": [],
   "source": [
    "if not os.path.exists(\"figures\"):\n",
    "    os.mkdir(\"figures\")\n",
    "figure_path = lambda file_name: os.path.join(\"figures\", file_name)"
   ]
  },
  {
   "cell_type": "code",
   "execution_count": 4,
   "metadata": {},
   "outputs": [
    {
     "data": {
      "text/html": [
       "<div>\n",
       "<style scoped>\n",
       "    .dataframe tbody tr th:only-of-type {\n",
       "        vertical-align: middle;\n",
       "    }\n",
       "\n",
       "    .dataframe tbody tr th {\n",
       "        vertical-align: top;\n",
       "    }\n",
       "\n",
       "    .dataframe thead th {\n",
       "        text-align: right;\n",
       "    }\n",
       "</style>\n",
       "<table border=\"1\" class=\"dataframe\">\n",
       "  <thead>\n",
       "    <tr style=\"text-align: right;\">\n",
       "      <th></th>\n",
       "      <th>patient</th>\n",
       "      <th>beat_type</th>\n",
       "      <th>beat_position</th>\n",
       "      <th>waves</th>\n",
       "    </tr>\n",
       "  </thead>\n",
       "  <tbody>\n",
       "    <tr>\n",
       "      <th>0</th>\n",
       "      <td>0</td>\n",
       "      <td>N</td>\n",
       "      <td>189</td>\n",
       "      <td>[[-0.0004107794277811361, -0.00261239189352849...</td>\n",
       "    </tr>\n",
       "    <tr>\n",
       "      <th>1</th>\n",
       "      <td>0</td>\n",
       "      <td>N</td>\n",
       "      <td>425</td>\n",
       "      <td>[[-0.00045817705406357484, -0.0030930819806448...</td>\n",
       "    </tr>\n",
       "    <tr>\n",
       "      <th>2</th>\n",
       "      <td>0</td>\n",
       "      <td>N</td>\n",
       "      <td>659</td>\n",
       "      <td>[[-0.0007267636029973947, -0.00525875376475549...</td>\n",
       "    </tr>\n",
       "    <tr>\n",
       "      <th>3</th>\n",
       "      <td>0</td>\n",
       "      <td>N</td>\n",
       "      <td>889</td>\n",
       "      <td>[[-0.0006793659767149558, -0.00501505180905132...</td>\n",
       "    </tr>\n",
       "    <tr>\n",
       "      <th>4</th>\n",
       "      <td>0</td>\n",
       "      <td>N</td>\n",
       "      <td>1113</td>\n",
       "      <td>[[-0.0009953501519312145, -0.00744022475762694...</td>\n",
       "    </tr>\n",
       "  </tbody>\n",
       "</table>\n",
       "</div>"
      ],
      "text/plain": [
       "   patient beat_type  beat_position  \\\n",
       "0        0         N            189   \n",
       "1        0         N            425   \n",
       "2        0         N            659   \n",
       "3        0         N            889   \n",
       "4        0         N           1113   \n",
       "\n",
       "                                               waves  \n",
       "0  [[-0.0004107794277811361, -0.00261239189352849...  \n",
       "1  [[-0.00045817705406357484, -0.0030930819806448...  \n",
       "2  [[-0.0007267636029973947, -0.00525875376475549...  \n",
       "3  [[-0.0006793659767149558, -0.00501505180905132...  \n",
       "4  [[-0.0009953501519312145, -0.00744022475762694...  "
      ]
     },
     "execution_count": 4,
     "metadata": {},
     "output_type": "execute_result"
    }
   ],
   "source": [
    "data = pd.read_pickle(\"splitted_samples.data\")\n",
    "data.head()"
   ]
  },
  {
   "cell_type": "code",
   "execution_count": 5,
   "metadata": {},
   "outputs": [
    {
     "data": {
      "image/png": "[encoded data removed]",
      "text/plain": [
       "<Figure size 432x288 with 1 Axes>"
      ]
     },
     "metadata": {
      "needs_background": "light"
     },
     "output_type": "display_data"
    }
   ],
   "source": [
    "beat_type_counts = data[\"beat_type\"].value_counts()\n",
    "plt.bar(beat_type_counts.index, beat_type_counts.values)\n",
    "plt.title(\"Amount of hearthbeat types across all patients\")\n",
    "plt.savefig(figure_path(\"heartbeat_types.png\"))\n",
    "plt.show()"
   ]
  },
  {
   "cell_type": "code",
   "execution_count": null,
   "metadata": {},
   "outputs": [],
   "source": []
  },
  {
   "cell_type": "code",
   "execution_count": 27,
   "metadata": {},
   "outputs": [
    {
     "data": {
      "image/png": "[encoded data removed]",
      "text/plain": [
       "<Figure size 720x720 with 5 Axes>"
      ]
     },
     "metadata": {
      "needs_background": "light"
     },
     "output_type": "display_data"
    }
   ],
   "source": [
    "hearthbeats = data.groupby([\"beat_type\"]).first().reset_index()\n",
    "hearthbeats = hearthbeats[hearthbeats[\"waves\"].str.len() == 160].reset_index().iloc[6:11].reset_index()\n",
    "\n",
    "plt.figure(figsize=(10,10))\n",
    "for i, beat in hearthbeats.iterrows():\n",
    "    plt.subplot(5,5,i+1)\n",
    "    plt.tight_layout()\n",
    "    plt.axis('off')\n",
    "    plt.title(beat[\"beat_type\"])\n",
    "    plt.plot(beat[\"waves\"])\n",
    "plt.savefig(\"figures/heartbeats.png\")"
   ]
  },
  {
   "cell_type": "code",
   "execution_count": 11,
   "metadata": {},
   "outputs": [
    {
     "data": {
      "text/html": [
       "<div>\n",
       "<style scoped>\n",
       "    .dataframe tbody tr th:only-of-type {\n",
       "        vertical-align: middle;\n",
       "    }\n",
       "\n",
       "    .dataframe tbody tr th {\n",
       "        vertical-align: top;\n",
       "    }\n",
       "\n",
       "    .dataframe thead th {\n",
       "        text-align: right;\n",
       "    }\n",
       "</style>\n",
       "<table border=\"1\" class=\"dataframe\">\n",
       "  <thead>\n",
       "    <tr style=\"text-align: right;\">\n",
       "      <th></th>\n",
       "      <th>beat_type</th>\n",
       "      <th>patient</th>\n",
       "      <th>beat_position</th>\n",
       "      <th>waves</th>\n",
       "    </tr>\n",
       "  </thead>\n",
       "  <tbody>\n",
       "    <tr>\n",
       "      <th>0</th>\n",
       "      <td>/</td>\n",
       "      <td>13</td>\n",
       "      <td>136</td>\n",
       "      <td>[[-0.0007899604380406463, -0.00639471575541610...</td>\n",
       "    </tr>\n",
       "    <tr>\n",
       "      <th>1</th>\n",
       "      <td>A</td>\n",
       "      <td>0</td>\n",
       "      <td>19148</td>\n",
       "      <td>[[-0.0005371730978676395, -0.00371517442654957...</td>\n",
       "    </tr>\n",
       "    <tr>\n",
       "      <th>2</th>\n",
       "      <td>E</td>\n",
       "      <td>3</td>\n",
       "      <td>590585</td>\n",
       "      <td>[[0.0002527873401730068, 0.002521549241258406]...</td>\n",
       "    </tr>\n",
       "    <tr>\n",
       "      <th>3</th>\n",
       "      <td>F</td>\n",
       "      <td>4</td>\n",
       "      <td>21791</td>\n",
       "      <td>[[-0.0005213738891068266, -0.00452922893776091...</td>\n",
       "    </tr>\n",
       "    <tr>\n",
       "      <th>4</th>\n",
       "      <td>J</td>\n",
       "      <td>16</td>\n",
       "      <td>89347</td>\n",
       "      <td>[[-0.0006319683504325171, -0.00534012136873642...</td>\n",
       "    </tr>\n",
       "    <tr>\n",
       "      <th>5</th>\n",
       "      <td>L</td>\n",
       "      <td>3</td>\n",
       "      <td>13717</td>\n",
       "      <td>[[-0.0005687715153892654, -0.00434635225692312...</td>\n",
       "    </tr>\n",
       "    <tr>\n",
       "      <th>6</th>\n",
       "      <td>N</td>\n",
       "      <td>0</td>\n",
       "      <td>189</td>\n",
       "      <td>[[-0.0004107794277811361, -0.00261239189352849...</td>\n",
       "    </tr>\n",
       "    <tr>\n",
       "      <th>8</th>\n",
       "      <td>S</td>\n",
       "      <td>9</td>\n",
       "      <td>385263</td>\n",
       "      <td>[[-0.0006161691416717042, -0.00421087320236778...</td>\n",
       "    </tr>\n",
       "    <tr>\n",
       "      <th>9</th>\n",
       "      <td>V</td>\n",
       "      <td>0</td>\n",
       "      <td>282126</td>\n",
       "      <td>[[-0.00042657863654194903, -0.0028568843692916...</td>\n",
       "    </tr>\n",
       "    <tr>\n",
       "      <th>10</th>\n",
       "      <td>a</td>\n",
       "      <td>4</td>\n",
       "      <td>536010</td>\n",
       "      <td>[[-0.0009321533168879626, -0.00643065643705282...</td>\n",
       "    </tr>\n",
       "    <tr>\n",
       "      <th>11</th>\n",
       "      <td>e</td>\n",
       "      <td>41</td>\n",
       "      <td>43415</td>\n",
       "      <td>[[-0.0016747161286461702, -0.01313464254339322...</td>\n",
       "    </tr>\n",
       "    <tr>\n",
       "      <th>12</th>\n",
       "      <td>f</td>\n",
       "      <td>13</td>\n",
       "      <td>27522</td>\n",
       "      <td>[[-0.0010585469869744662, -0.00840239545191861...</td>\n",
       "    </tr>\n",
       "    <tr>\n",
       "      <th>13</th>\n",
       "      <td>j</td>\n",
       "      <td>15</td>\n",
       "      <td>452324</td>\n",
       "      <td>[[-0.0005213738891068266, -0.00361287482963376...</td>\n",
       "    </tr>\n",
       "  </tbody>\n",
       "</table>\n",
       "</div>"
      ],
      "text/plain": [
       "   beat_type  patient  beat_position  \\\n",
       "0          /       13            136   \n",
       "1          A        0          19148   \n",
       "2          E        3         590585   \n",
       "3          F        4          21791   \n",
       "4          J       16          89347   \n",
       "5          L        3          13717   \n",
       "6          N        0            189   \n",
       "8          S        9         385263   \n",
       "9          V        0         282126   \n",
       "10         a        4         536010   \n",
       "11         e       41          43415   \n",
       "12         f       13          27522   \n",
       "13         j       15         452324   \n",
       "\n",
       "                                                waves  \n",
       "0   [[-0.0007899604380406463, -0.00639471575541610...  \n",
       "1   [[-0.0005371730978676395, -0.00371517442654957...  \n",
       "2   [[0.0002527873401730068, 0.002521549241258406]...  \n",
       "3   [[-0.0005213738891068266, -0.00452922893776091...  \n",
       "4   [[-0.0006319683504325171, -0.00534012136873642...  \n",
       "5   [[-0.0005687715153892654, -0.00434635225692312...  \n",
       "6   [[-0.0004107794277811361, -0.00261239189352849...  \n",
       "8   [[-0.0006161691416717042, -0.00421087320236778...  \n",
       "9   [[-0.00042657863654194903, -0.0028568843692916...  \n",
       "10  [[-0.0009321533168879626, -0.00643065643705282...  \n",
       "11  [[-0.0016747161286461702, -0.01313464254339322...  \n",
       "12  [[-0.0010585469869744662, -0.00840239545191861...  \n",
       "13  [[-0.0005213738891068266, -0.00361287482963376...  "
      ]
     },
     "execution_count": 11,
     "metadata": {},
     "output_type": "execute_result"
    }
   ],
   "source": [
    "hearthbeats"
   ]
  }
 ],
 "metadata": {
  "kernelspec": {
   "display_name": "Python 3",
   "language": "python",
   "name": "python3"
  },
  "language_info": {
   "codemirror_mode": {
    "name": "ipython",
    "version": 3
   },
   "file_extension": ".py",
   "mimetype": "text/x-python",
   "name": "python",
   "nbconvert_exporter": "python",
   "pygments_lexer": "ipython3",
   "version": "3.7.7"
  }
 },
 "nbformat": 4,
 "nbformat_minor": 4
}
