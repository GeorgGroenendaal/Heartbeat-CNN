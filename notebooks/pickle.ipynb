{
 "cells": [
  {
   "cell_type": "code",
   "execution_count": 1,
   "metadata": {},
   "outputs": [],
   "source": [
    "import numpy as np\n",
    "import pickle\n",
    "import os"
   ]
  },
  {
   "cell_type": "code",
   "execution_count": 2,
   "metadata": {},
   "outputs": [
    {
     "data": {
      "text/plain": [
       "array([1., 1., 1., 1., 1., 1., 1., 1., 1., 1.])"
      ]
     },
     "execution_count": 2,
     "metadata": {},
     "output_type": "execute_result"
    }
   ],
   "source": [
    "x = np.ones(10)\n",
    "x"
   ]
  },
  {
   "cell_type": "code",
   "execution_count": 3,
   "metadata": {},
   "outputs": [],
   "source": [
    "with open(\"storage.data\", \"wb\") as out:\n",
    "    pickle.dump(x, out)"
   ]
  },
  {
   "cell_type": "code",
   "execution_count": 4,
   "metadata": {},
   "outputs": [],
   "source": [
    "with open(\"storage.data\", \"rb\") as inp:\n",
    "    tadaa = pickle.load(inp)"
   ]
  },
  {
   "cell_type": "code",
   "execution_count": 5,
   "metadata": {},
   "outputs": [
    {
     "data": {
      "text/plain": [
       "array([1., 1., 1., 1., 1., 1., 1., 1., 1., 1.])"
      ]
     },
     "execution_count": 5,
     "metadata": {},
     "output_type": "execute_result"
    }
   ],
   "source": [
    "tadaa"
   ]
  },
  {
   "cell_type": "code",
   "execution_count": 6,
   "metadata": {},
   "outputs": [
    {
     "data": {
      "text/plain": [
       "['100',\n",
       " '105',\n",
       " '214',\n",
       " '219',\n",
       " '121',\n",
       " '231',\n",
       " '220',\n",
       " '119',\n",
       " '118',\n",
       " '103',\n",
       " '112',\n",
       " '123',\n",
       " '207',\n",
       " '111',\n",
       " '233',\n",
       " '212',\n",
       " '108',\n",
       " '205',\n",
       " '232',\n",
       " '117',\n",
       " '215',\n",
       " '210',\n",
       " '213',\n",
       " '116',\n",
       " '230',\n",
       " '106',\n",
       " '228',\n",
       " '115',\n",
       " '122',\n",
       " '101',\n",
       " '223',\n",
       " '234',\n",
       " '222',\n",
       " '109',\n",
       " '113',\n",
       " '209',\n",
       " '124',\n",
       " '217',\n",
       " '208',\n",
       " '114',\n",
       " '104',\n",
       " '203',\n",
       " '102',\n",
       " '202',\n",
       " '200',\n",
       " '201',\n",
       " '107',\n",
       " '221',\n",
       " '102-0']"
      ]
     },
     "execution_count": 6,
     "metadata": {},
     "output_type": "execute_result"
    }
   ],
   "source": [
    "[x[:x.find(\".\")] for x in os.listdir(\"data/files/mitdb/1.0.0\") if x.endswith(\".atr\")]"
   ]
  },
  {
   "cell_type": "code",
   "execution_count": null,
   "metadata": {},
   "outputs": [],
   "source": []
  }
 ],
 "metadata": {
  "kernelspec": {
   "display_name": "Python 3",
   "language": "python",
   "name": "python3"
  },
  "language_info": {
   "codemirror_mode": {
    "name": "ipython",
    "version": 3
   },
   "file_extension": ".py",
   "mimetype": "text/x-python",
   "name": "python",
   "nbconvert_exporter": "python",
   "pygments_lexer": "ipython3",
   "version": "3.8.2"
  }
 },
 "nbformat": 4,
 "nbformat_minor": 4
}
