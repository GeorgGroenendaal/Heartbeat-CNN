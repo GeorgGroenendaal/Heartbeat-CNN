{
 "cells": [
  {
   "cell_type": "markdown",
   "metadata": {},
   "source": [
    "# 1D CNN on ECG data with transfer learning\n",
    "\n",
    "This notebook demonstrates a 1D CNN that is trained on ECG data from the MIT-BIH dataset. This project will utilize transfer learning to learn the general patterns of an ECG. Then this final layers of this pre-trained model are re-trained on one specific patient using the first ten minutes of the ECG trace. Then the model will be evaluated using the final 20 minutes of the ECG trace.\n",
    "\n",
    "Of course the to-be evaluated patient is not included initial learning step, this will prevent any data leakage. The process will be repeated in a leave-one-out-cross-validation fashion."
   ]
  },
  {
   "cell_type": "code",
   "execution_count": 1,
   "metadata": {},
   "outputs": [],
   "source": [
    "import math\n",
    "import os\n",
    "import tensorflow_addons as tfa\n",
    "import datetime\n",
    "import pandas as pd\n",
    "import keras\n",
    "import tensorflow as tf\n",
    "import numpy as np\n",
    "from keras.callbacks import Callback\n",
    "import matplotlib.pyplot as plt\n",
    "from tensorflow.keras import layers, models\n",
    "from scikitplot.metrics import plot_confusion_matrix, plot_roc"
   ]
  },
  {
   "cell_type": "markdown",
   "metadata": {},
   "source": [
    "## Final filtering and loading\n",
    "The dataset needs to have it's final preprocessing steps applied. \n",
    "We factorize the labels (convert strings to integers) so it can be used by the model.\n",
    "Also we exclude any hearthbeats that have a windown length of 160, these are hearthbeats that occur in the beginning and and of a recording"
   ]
  },
  {
   "cell_type": "code",
   "execution_count": 2,
   "metadata": {},
   "outputs": [],
   "source": [
    "data = pd.read_pickle(\"splitted_samples.data\")\n",
    "\n",
    "data = data[data['waves'].str.len() == 160]\n",
    "# factorize labels\n",
    "factorized_labels = data[\"beat_type\"].factorize()\n",
    "data[\"label\"] = factorized_labels[0]"
   ]
  },
  {
   "cell_type": "code",
   "execution_count": 3,
   "metadata": {},
   "outputs": [
    {
     "name": "stdout",
     "output_type": "stream",
     "text": [
      "Percentage of normal hearthbeats\n"
     ]
    },
    {
     "data": {
      "text/plain": [
       "0.6856484950382865"
      ]
     },
     "execution_count": 3,
     "metadata": {},
     "output_type": "execute_result"
    }
   ],
   "source": [
    "summ = data[\"beat_type\"].value_counts()\n",
    "print(\"Percentage of normal hearthbeats\")\n",
    "1- (sum(summ) - summ[\"N\"]) / sum(summ)"
   ]
  },
  {
   "cell_type": "markdown",
   "metadata": {},
   "source": [
    "## Data splitting and normalization\n",
    "Data needs to be splitted and transformed to the correct shape. Then the values are normalized between 0 and 1. It is important to note that that test and train data is seperately normalized, also the two hearth tracks are also seperately normalized"
   ]
  },
  {
   "cell_type": "code",
   "execution_count": 4,
   "metadata": {},
   "outputs": [],
   "source": [
    "def train_test_split():\n",
    "    patient_count = np.unique(data[\"patient\"]).shape[0]\n",
    "    \n",
    "    for i in range(patient_count):\n",
    "        train = data[data[\"patient\"] != i]\n",
    "        test = data[data[\"patient\"] == i]\n",
    "\n",
    "        train_data, train_labels = np.array(train[\"waves\"].tolist()), np.expand_dims(train[\"label\"].values, axis=1)\n",
    "        test_data, test_labels = np.array(test[\"waves\"].tolist()), np.expand_dims(test[\"label\"].values, axis=1)\n",
    "        \n",
    "        # Normalization between [0,1]\n",
    "        train_data[:,:,0] = (train_data[:,:,0] - train_data[:,:,0].min()) / (train_data[:,:,0].max() - train_data[:,:,0].min())\n",
    "        train_data[:,:,1] = (train_data[:,:,1] - train_data[:,:,1].min()) / (train_data[:,:,1].max() - train_data[:,:,1].min())  \n",
    "        \n",
    "        test_data[:,:,0] = (test_data[:,:,0] - test_data[:,:,0].min()) / (test_data[:,:,0].max() - test_data[:,:,0].min())  \n",
    "        test_data[:,:,1] = (test_data[:,:,1] - test_data[:,:,1].min()) / (test_data[:,:,1].max() - test_data[:,:,1].min())  \n",
    "\n",
    "        yield (train_data, train_labels), (test_data, test_labels)"
   ]
  },
  {
   "cell_type": "code",
   "execution_count": null,
   "metadata": {},
   "outputs": [],
   "source": []
  },
  {
   "cell_type": "markdown",
   "metadata": {},
   "source": [
    "## Evaluation all models with cross validation"
   ]
  },
  {
   "cell_type": "code",
   "execution_count": 28,
   "metadata": {},
   "outputs": [],
   "source": [
    "class PerformanceVisualizationCallback(Callback):\n",
    "        def __init__(self, model, validation_data, image_dir):\n",
    "            super().__init__()\n",
    "            self.model = model\n",
    "            self.validation_data = validation_data\n",
    "        \n",
    "            os.makedirs(image_dir, exist_ok=True)\n",
    "            self.image_dir = image_dir\n",
    "\n",
    "        def on_epoch_end(self, epoch, logs={}):\n",
    "            y_pred = np.asarray(self.model.predict(self.validation_data[0]))\n",
    "            y_true = self.validation_data[1]             \n",
    "            y_pred_class = np.argmax(y_pred, axis=1)\n",
    "\n",
    "            # plot and save confusion matrix\n",
    "            fig, ax = plt.subplots(figsize=(16,12))\n",
    "            plot_confusion_matrix(y_true, y_pred_class, ax=ax)\n",
    "            fig.savefig(os.path.join(self.image_dir, f'confusion_matrix_epoch_{epoch}'))"
   ]
  },
  {
   "cell_type": "code",
   "execution_count": 29,
   "metadata": {},
   "outputs": [
    {
     "name": "stdin",
     "output_type": "stream",
     "text": [
      "Enter name of run a\n"
     ]
    },
    {
     "name": "stdout",
     "output_type": "stream",
     "text": [
      "Model: \"model_19\"\n",
      "_________________________________________________________________\n",
      "Layer (type)                 Output Shape              Param #   \n",
      "=================================================================\n",
      "conv1d_57_input (InputLayer) [(None, 160, 2)]          0         \n",
      "_________________________________________________________________\n",
      "conv1d_57 (Conv1D)           (None, 158, 16)           112       \n",
      "_________________________________________________________________\n",
      "max_pooling1d_57 (MaxPooling (None, 79, 16)            0         \n",
      "_________________________________________________________________\n",
      "conv1d_58 (Conv1D)           (None, 77, 32)            1568      \n",
      "_________________________________________________________________\n",
      "max_pooling1d_58 (MaxPooling (None, 38, 32)            0         \n",
      "_________________________________________________________________\n",
      "conv1d_59 (Conv1D)           (None, 36, 64)            6208      \n",
      "_________________________________________________________________\n",
      "max_pooling1d_59 (MaxPooling (None, 18, 64)            0         \n",
      "_________________________________________________________________\n",
      "flatten_19 (Flatten)         (None, 1152)              0         \n",
      "_________________________________________________________________\n",
      "dense_38 (Dense)             (None, 32)                36896     \n",
      "_________________________________________________________________\n",
      "dense_39 (Dense)             (None, 14)                462       \n",
      "=================================================================\n",
      "Total params: 45,246\n",
      "Trainable params: 45,246\n",
      "Non-trainable params: 0\n",
      "_________________________________________________________________\n",
      "First training step\n",
      "3319/3319 [==============================] - 14s 4ms/step - loss: 1.0919 - accuracy: 0.7140\n",
      "Second training step\n",
      "3319/3319 [==============================] - 15s 4ms/step - loss: 0.6659 - accuracy: 0.8220 - val_loss: 1.2238 - val_accuracy: 0.8382\n"
     ]
    },
    {
     "data": {
      "image/png": "[encoded data removed]",
      "text/plain": [
       "<Figure size 1152x864 with 2 Axes>"
      ]
     },
     "metadata": {
      "needs_background": "light"
     },
     "output_type": "display_data"
    }
   ],
   "source": [
    "patient = 0\n",
    "run_name = input(\"Enter name of run\")\n",
    "\n",
    "\n",
    "for (train_data, train_labels), (test_data, test_labels) in train_test_split():\n",
    "\n",
    "    base_model = models.Sequential()\n",
    "    base_model.add(layers.Conv1D(16, 3, input_shape=(160, 2), activation=\"relu\"))\n",
    "    base_model.add(layers.MaxPool1D(2))\n",
    "    base_model.add(layers.Conv1D(32, 3, activation=\"relu\"))\n",
    "    base_model.add(layers.MaxPool1D(2))\n",
    "    base_model.add(layers.Conv1D(64, 3, activation=\"relu\"))\n",
    "    base_model.add(layers.MaxPool1D(2))\n",
    "\n",
    "    final_layers = base_model.output\n",
    "    final_layers = layers.Flatten()(final_layers)\n",
    "    final_layers = layers.Dense(32, activation=\"relu\")(final_layers)\n",
    "    final_layers = layers.Dense(14, activation=\"relu\")(final_layers)\n",
    "\n",
    "    model = tf.keras.models.Model(inputs=base_model.input, outputs=final_layers)\n",
    "    model.summary()\n",
    "\n",
    "    # ---------------\n",
    "\n",
    "    model.compile(optimizer=\"adam\",\n",
    "                  loss=tf.keras.losses.SparseCategoricalCrossentropy(from_logits=True),\n",
    "                  metrics=[\"accuracy\"])\n",
    "\n",
    "    print(\"First training step\")\n",
    "    history = model.fit(train_data, train_labels, epochs=2)\n",
    "    \n",
    "    #performance_cbk = PerformanceVisualizationCallback(model=model, validation_data=(test_data, test_labels),image_dir='performance_vizualizations')\n",
    "    #history = model.fit(train_data,train_labels,epochs=1,validation_data=(test_data, test_labels),callbacks=[performance_cbk])\n",
    "\n",
    "    for layer in model.layers[:len(base_model.layers)+1]:\n",
    "        layer.trainable = False\n",
    "    base_model_weights = model.layers[0].get_weights()\n",
    "\n",
    "    # we now use test data for training\n",
    "    split = math.floor(test_data.shape[0] * 1/3)\n",
    "    transfer_train_data = test_data[:split]\n",
    "    transfer_train_labels = test_labels[:split]\n",
    "    transfer_validation_data = test_data[split:]\n",
    "    transfer_validation_labels = test_labels[split:]\n",
    "\n",
    "    log_dir = \"logs/fit/\" + run_name + \"patient \" + str(patient) + \" | \" + datetime.datetime.now().strftime(\"%Y%m%d-%H%M%S\")\n",
    "    tensorboard_callback = tf.keras.callbacks.TensorBoard(log_dir=log_dir, histogram_freq=1)\n",
    "\n",
    "    print(\"Second training step\")\n",
    "    # model.fit(transfer_train_data, transfer_train_labels, validation_data=(transfer_validation_data, transfer_validation_labels), epochs=5,callbacks=[tensorboard_callback])\n",
    "    \n",
    "    # Fitting the model and creating the confusion matrix\n",
    "    performance_cbk = PerformanceVisualizationCallback(\n",
    "                      model=model,\n",
    "                      validation_data=(test_data, test_labels),\n",
    "                      image_dir='performance_vizualizations')\n",
    "    \n",
    "    history = model.fit(train_data,\n",
    "                    train_labels,\n",
    "                    epochs=2,\n",
    "                    validation_data=(test_data, test_labels),\n",
    "                    callbacks=[performance_cbk])\n",
    "    \n",
    "    # Plotting the confusion matrix\n",
    "    plt.plot(history.history['accuracy'])\n",
    "    plt.plot(history.history['val_accuracy'])\n",
    "    plt.title('Model accuracy')\n",
    "    plt.ylabel('Accuracy')\n",
    "    plt.xlabel('Epoch')\n",
    "    plt.legend(['Train', 'Test'], loc='upper left')\n",
    "    plt.show()\n",
    "    \n",
    "    # tf.keras.backend.clear_session()\n",
    "    break\n",
    "    patient += 1"
   ]
  },
  {
   "cell_type": "code",
   "execution_count": 67,
   "metadata": {},
   "outputs": [],
   "source": [
    "np.testing.assert_allclose(model.layers[0].get_weights(), base_model_weights)"
   ]
  },
  {
   "cell_type": "code",
   "execution_count": 51,
   "metadata": {},
   "outputs": [
    {
     "data": {
      "text/plain": [
       "[<tensorflow.python.keras.engine.input_layer.InputLayer at 0x7f65fc35eb90>,\n",
       " <tensorflow.python.keras.layers.convolutional.Conv1D at 0x7f65fc347210>,\n",
       " <tensorflow.python.keras.layers.pooling.MaxPooling1D at 0x7f65fc347d10>,\n",
       " <tensorflow.python.keras.layers.convolutional.Conv1D at 0x7f65fc35ebd0>,\n",
       " <tensorflow.python.keras.layers.pooling.MaxPooling1D at 0x7f65fc35d510>,\n",
       " <tensorflow.python.keras.layers.convolutional.Conv1D at 0x7f65f4188ed0>,\n",
       " <tensorflow.python.keras.layers.pooling.MaxPooling1D at 0x7f65f7481a10>]"
      ]
     },
     "execution_count": 51,
     "metadata": {},
     "output_type": "execute_result"
    }
   ],
   "source": [
    "model.layers[:len(base_model.layers)+1]"
   ]
  }
 ],
 "metadata": {
  "kernelspec": {
   "display_name": "Python 3",
   "language": "python",
   "name": "python3"
  },
  "language_info": {
   "codemirror_mode": {
    "name": "ipython",
    "version": 3
   },
   "file_extension": ".py",
   "mimetype": "text/x-python",
   "name": "python",
   "nbconvert_exporter": "python",
   "pygments_lexer": "ipython3",
   "version": "3.7.3"
  }
 },
 "nbformat": 4,
 "nbformat_minor": 4
}
